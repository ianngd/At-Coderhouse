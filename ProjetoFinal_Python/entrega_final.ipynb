{
 "cells": [
  {
   "cell_type": "markdown",
   "metadata": {},
   "source": [
    "### 1. Instalação das bibliotecas necessárias"
   ]
  },
  {
   "cell_type": "code",
   "execution_count": 2,
   "metadata": {},
   "outputs": [
    {
     "name": "stdout",
     "output_type": "stream",
     "text": [
      "Defaulting to user installation because normal site-packages is not writeable\n",
      "Requirement already satisfied: requests in c:\\programdata\\anaconda3\\lib\\site-packages (2.31.0)\n",
      "Requirement already satisfied: pandas in c:\\programdata\\anaconda3\\lib\\site-packages (2.1.4)\n",
      "Requirement already satisfied: plyer in c:\\programdata\\anaconda3\\lib\\site-packages (2.1.0)\n",
      "Requirement already satisfied: datetime in c:\\users\\ianng\\appdata\\roaming\\python\\python311\\site-packages (5.5)\n",
      "Requirement already satisfied: IPython in c:\\programdata\\anaconda3\\lib\\site-packages (8.20.0)\n",
      "Requirement already satisfied: charset-normalizer<4,>=2 in c:\\programdata\\anaconda3\\lib\\site-packages (from requests) (2.0.4)\n",
      "Requirement already satisfied: idna<4,>=2.5 in c:\\programdata\\anaconda3\\lib\\site-packages (from requests) (3.4)\n",
      "Requirement already satisfied: urllib3<3,>=1.21.1 in c:\\programdata\\anaconda3\\lib\\site-packages (from requests) (2.0.7)\n",
      "Requirement already satisfied: certifi>=2017.4.17 in c:\\programdata\\anaconda3\\lib\\site-packages (from requests) (2024.6.2)\n",
      "Requirement already satisfied: numpy<2,>=1.23.2 in c:\\programdata\\anaconda3\\lib\\site-packages (from pandas) (1.26.4)\n",
      "Requirement already satisfied: python-dateutil>=2.8.2 in c:\\programdata\\anaconda3\\lib\\site-packages (from pandas) (2.8.2)\n",
      "Requirement already satisfied: pytz>=2020.1 in c:\\programdata\\anaconda3\\lib\\site-packages (from pandas) (2023.3.post1)\n",
      "Requirement already satisfied: tzdata>=2022.1 in c:\\programdata\\anaconda3\\lib\\site-packages (from pandas) (2023.3)\n",
      "Requirement already satisfied: zope.interface in c:\\programdata\\anaconda3\\lib\\site-packages (from datetime) (5.4.0)\n",
      "Requirement already satisfied: decorator in c:\\programdata\\anaconda3\\lib\\site-packages (from IPython) (5.1.1)\n",
      "Requirement already satisfied: jedi>=0.16 in c:\\programdata\\anaconda3\\lib\\site-packages (from IPython) (0.18.1)\n",
      "Requirement already satisfied: matplotlib-inline in c:\\programdata\\anaconda3\\lib\\site-packages (from IPython) (0.1.6)\n",
      "Requirement already satisfied: prompt-toolkit<3.1.0,>=3.0.41 in c:\\programdata\\anaconda3\\lib\\site-packages (from IPython) (3.0.43)\n",
      "Requirement already satisfied: pygments>=2.4.0 in c:\\programdata\\anaconda3\\lib\\site-packages (from IPython) (2.15.1)\n",
      "Requirement already satisfied: stack-data in c:\\programdata\\anaconda3\\lib\\site-packages (from IPython) (0.2.0)\n",
      "Requirement already satisfied: traitlets>=5 in c:\\programdata\\anaconda3\\lib\\site-packages (from IPython) (5.7.1)\n",
      "Requirement already satisfied: colorama in c:\\programdata\\anaconda3\\lib\\site-packages (from IPython) (0.4.6)\n",
      "Requirement already satisfied: parso<0.9.0,>=0.8.0 in c:\\programdata\\anaconda3\\lib\\site-packages (from jedi>=0.16->IPython) (0.8.3)\n",
      "Requirement already satisfied: wcwidth in c:\\programdata\\anaconda3\\lib\\site-packages (from prompt-toolkit<3.1.0,>=3.0.41->IPython) (0.2.5)\n",
      "Requirement already satisfied: six>=1.5 in c:\\programdata\\anaconda3\\lib\\site-packages (from python-dateutil>=2.8.2->pandas) (1.16.0)\n",
      "Requirement already satisfied: executing in c:\\programdata\\anaconda3\\lib\\site-packages (from stack-data->IPython) (0.8.3)\n",
      "Requirement already satisfied: asttokens in c:\\programdata\\anaconda3\\lib\\site-packages (from stack-data->IPython) (2.0.5)\n",
      "Requirement already satisfied: pure-eval in c:\\programdata\\anaconda3\\lib\\site-packages (from stack-data->IPython) (0.2.2)\n",
      "Requirement already satisfied: setuptools in c:\\programdata\\anaconda3\\lib\\site-packages (from zope.interface->datetime) (68.2.2)\n",
      "Note: you may need to restart the kernel to use updated packages.\n"
     ]
    }
   ],
   "source": [
    "%pip install requests pandas plyer datetime IPython"
   ]
  },
  {
   "cell_type": "markdown",
   "metadata": {},
   "source": [
    "### 2. Importação das bibliotecas"
   ]
  },
  {
   "cell_type": "code",
   "execution_count": 3,
   "metadata": {},
   "outputs": [],
   "source": [
    "import pandas as pd\n",
    "import requests\n",
    "from plyer import notification\n",
    "from IPython.display import display\n",
    "from datetime import datetime\n",
    "import sqlite3\n",
    "\n"
   ]
  },
  {
   "cell_type": "markdown",
   "metadata": {},
   "source": [
    "### 3. Def de criação dos alertas"
   ]
  },
  {
   "cell_type": "code",
   "execution_count": 5,
   "metadata": {},
   "outputs": [],
   "source": [
    "def alerta (nivel,base,etapa):\n",
    "    \"\"\"Exibe notificação em caso de falha de carregamento de base\"\"\"\n",
    "    if 1 == nivel:\n",
    "        notification.notify(\n",
    "            title = 'Alerta Baixo',\n",
    "            message = 'Falha do carregamento da base {} na etapa de {}'.format(base,etapa),\n",
    "            app_name = 'Previsão - Brasil', timeout = 10\n",
    "            )\n",
    "    elif 2 == nivel:\n",
    "        notification.notify(\n",
    "            title = 'Alerta Medio',\n",
    "            message = 'Falha do carregamento da base {} no(a) {}'.format(base,etapa),\n",
    "            app_name = 'Previsão - Brasil', timeout = 10\n",
    "            )\n",
    "    elif 3 == nivel:\n",
    "        notification.notify(\n",
    "            title = 'Alerta Alto',\n",
    "            message = 'Falha do carregamento da base {} no(a) {}'.format(base,etapa),\n",
    "            app_name = 'Previsão - Brasil', timeout = 10\n",
    "            )        \n",
    "    else: \n",
    "        print('Erro sistemico. Por favor, tente novamente.')"
   ]
  },
  {
   "cell_type": "markdown",
   "metadata": {},
   "source": [
    "### 4. Def para extrair dados da API e se necessário retornar mensagem de erro"
   ]
  },
  {
   "cell_type": "code",
   "execution_count": 6,
   "metadata": {},
   "outputs": [],
   "source": [
    "\n",
    "def extracao_api (url):\n",
    "    response = requests.get(url)\n",
    "    if response.status_code == 200:\n",
    "        return response.json()  \n",
    "    elif response.status_code > 200 and response.status_code < 300:\n",
    "        alerta(1,'para previsão','acesso')\n",
    "    elif response.status_code >= 400 and response.status_code <500:\n",
    "        alerta (2, 'para previsão', 'solicitação')\n",
    "    elif response.status_code >= 500 and response.status_code <600:\n",
    "        alerta (3, 'para previsão', 'servidor')\n",
    "    else:\n",
    "        alerta (1, 'para previsão', 'etapa desconhecida')"
   ]
  },
  {
   "cell_type": "markdown",
   "metadata": {},
   "source": [
    "### 5.1. Trazendo os dados e trabalhando a  primeira tabela (estado)"
   ]
  },
  {
   "cell_type": "code",
   "execution_count": 8,
   "metadata": {},
   "outputs": [
    {
     "data": {
      "text/html": [
       "<div>\n",
       "<style scoped>\n",
       "    .dataframe tbody tr th:only-of-type {\n",
       "        vertical-align: middle;\n",
       "    }\n",
       "\n",
       "    .dataframe tbody tr th {\n",
       "        vertical-align: top;\n",
       "    }\n",
       "\n",
       "    .dataframe thead th {\n",
       "        text-align: right;\n",
       "    }\n",
       "</style>\n",
       "<table border=\"1\" class=\"dataframe\">\n",
       "  <thead>\n",
       "    <tr style=\"text-align: right;\">\n",
       "      <th></th>\n",
       "      <th>Nome</th>\n",
       "      <th>Sigla</th>\n",
       "      <th>Regiao</th>\n",
       "    </tr>\n",
       "  </thead>\n",
       "  <tbody>\n",
       "    <tr>\n",
       "      <th>3</th>\n",
       "      <td>Roraima</td>\n",
       "      <td>RR</td>\n",
       "      <td>Norte</td>\n",
       "    </tr>\n",
       "  </tbody>\n",
       "</table>\n",
       "</div>"
      ],
      "text/plain": [
       "      Nome Sigla Regiao\n",
       "3  Roraima    RR  Norte"
      ]
     },
     "metadata": {},
     "output_type": "display_data"
    }
   ],
   "source": [
    "url = \"https://brasilapi.com.br/api/ibge/uf/v1\"\n",
    "data_json = extracao_api (url)\n",
    "#estados_t = cabecalho(url,linhas=27)\n",
    "\n",
    "regiao = [total_simples['regiao']['nome'] for total_simples in data_json]\n",
    "nome = [total_simples['nome'] for total_simples in data_json]\n",
    "sigla = [total_simples['sigla'] for total_simples in data_json]\n",
    "\n",
    "\n",
    "total_simples = pd.DataFrame({\n",
    "    'Nome': nome,\n",
    "    'Sigla': sigla,\n",
    "    'Regiao': regiao\n",
    "})\n",
    "\n",
    "sigla = 'RR'\n",
    "\n",
    "\n",
    "estado = total_simples[total_simples['Sigla'] == sigla]\n",
    "estado = estado.sort_values(by='Nome')\n",
    "\n",
    "\n",
    "#Tabela 1: Estados e suas siglas\n",
    "display(estado.head(len(estado)))\n"
   ]
  },
  {
   "cell_type": "markdown",
   "metadata": {},
   "source": [
    "### 5.2 Trazendo os dados e trabalhando a segunda tabela (Cidades do estado)"
   ]
  },
  {
   "cell_type": "code",
   "execution_count": 9,
   "metadata": {},
   "outputs": [
    {
     "data": {
      "text/html": [
       "<div>\n",
       "<style scoped>\n",
       "    .dataframe tbody tr th:only-of-type {\n",
       "        vertical-align: middle;\n",
       "    }\n",
       "\n",
       "    .dataframe tbody tr th {\n",
       "        vertical-align: top;\n",
       "    }\n",
       "\n",
       "    .dataframe thead th {\n",
       "        text-align: right;\n",
       "    }\n",
       "</style>\n",
       "<table border=\"1\" class=\"dataframe\">\n",
       "  <thead>\n",
       "    <tr style=\"text-align: right;\">\n",
       "      <th></th>\n",
       "      <th>Regiao</th>\n",
       "      <th>Estado</th>\n",
       "      <th>Cidade</th>\n",
       "    </tr>\n",
       "  </thead>\n",
       "  <tbody>\n",
       "    <tr>\n",
       "      <th>1</th>\n",
       "      <td>Norte</td>\n",
       "      <td>RR</td>\n",
       "      <td>ALTO ALEGRE</td>\n",
       "    </tr>\n",
       "    <tr>\n",
       "      <th>0</th>\n",
       "      <td>Norte</td>\n",
       "      <td>RR</td>\n",
       "      <td>AMAJARI</td>\n",
       "    </tr>\n",
       "    <tr>\n",
       "      <th>2</th>\n",
       "      <td>Norte</td>\n",
       "      <td>RR</td>\n",
       "      <td>BOA VISTA</td>\n",
       "    </tr>\n",
       "    <tr>\n",
       "      <th>3</th>\n",
       "      <td>Norte</td>\n",
       "      <td>RR</td>\n",
       "      <td>BONFIM</td>\n",
       "    </tr>\n",
       "    <tr>\n",
       "      <th>4</th>\n",
       "      <td>Norte</td>\n",
       "      <td>RR</td>\n",
       "      <td>CANTA</td>\n",
       "    </tr>\n",
       "    <tr>\n",
       "      <th>5</th>\n",
       "      <td>Norte</td>\n",
       "      <td>RR</td>\n",
       "      <td>CARACARAI</td>\n",
       "    </tr>\n",
       "    <tr>\n",
       "      <th>6</th>\n",
       "      <td>Norte</td>\n",
       "      <td>RR</td>\n",
       "      <td>CAROEBE</td>\n",
       "    </tr>\n",
       "    <tr>\n",
       "      <th>7</th>\n",
       "      <td>Norte</td>\n",
       "      <td>RR</td>\n",
       "      <td>IRACEMA</td>\n",
       "    </tr>\n",
       "    <tr>\n",
       "      <th>8</th>\n",
       "      <td>Norte</td>\n",
       "      <td>RR</td>\n",
       "      <td>MUCAJAI</td>\n",
       "    </tr>\n",
       "    <tr>\n",
       "      <th>9</th>\n",
       "      <td>Norte</td>\n",
       "      <td>RR</td>\n",
       "      <td>NORMANDIA</td>\n",
       "    </tr>\n",
       "    <tr>\n",
       "      <th>10</th>\n",
       "      <td>Norte</td>\n",
       "      <td>RR</td>\n",
       "      <td>PACARAIMA</td>\n",
       "    </tr>\n",
       "    <tr>\n",
       "      <th>11</th>\n",
       "      <td>Norte</td>\n",
       "      <td>RR</td>\n",
       "      <td>RORAINOPOLIS</td>\n",
       "    </tr>\n",
       "    <tr>\n",
       "      <th>12</th>\n",
       "      <td>Norte</td>\n",
       "      <td>RR</td>\n",
       "      <td>SAO JOAO DA BALIZA</td>\n",
       "    </tr>\n",
       "    <tr>\n",
       "      <th>13</th>\n",
       "      <td>Norte</td>\n",
       "      <td>RR</td>\n",
       "      <td>SAO LUIZ</td>\n",
       "    </tr>\n",
       "    <tr>\n",
       "      <th>14</th>\n",
       "      <td>Norte</td>\n",
       "      <td>RR</td>\n",
       "      <td>UIRAMUTA</td>\n",
       "    </tr>\n",
       "  </tbody>\n",
       "</table>\n",
       "</div>"
      ],
      "text/plain": [
       "   Regiao Estado              Cidade\n",
       "1   Norte     RR         ALTO ALEGRE\n",
       "0   Norte     RR             AMAJARI\n",
       "2   Norte     RR           BOA VISTA\n",
       "3   Norte     RR              BONFIM\n",
       "4   Norte     RR               CANTA\n",
       "5   Norte     RR           CARACARAI\n",
       "6   Norte     RR             CAROEBE\n",
       "7   Norte     RR             IRACEMA\n",
       "8   Norte     RR             MUCAJAI\n",
       "9   Norte     RR           NORMANDIA\n",
       "10  Norte     RR           PACARAIMA\n",
       "11  Norte     RR        RORAINOPOLIS\n",
       "12  Norte     RR  SAO JOAO DA BALIZA\n",
       "13  Norte     RR            SAO LUIZ\n",
       "14  Norte     RR            UIRAMUTA"
      ]
     },
     "metadata": {},
     "output_type": "display_data"
    }
   ],
   "source": [
    "cidade = []\n",
    "url = f'https://brasilapi.com.br/api/ibge/municipios/v1/{sigla}?providers=dados-abertos-br,gov,wikipedia'\n",
    "data_json = extracao_api(url)\n",
    "\n",
    "if data_json:\n",
    "    cidade = [item['nome'] for item in data_json]\n",
    "\n",
    "uf_e_cidades = pd.DataFrame({\n",
    "    'Regiao': estado['Regiao'].values[0] if not estado.empty else None,\n",
    "    'Estado': estado['Sigla'].values[0] if not estado.empty else None,\n",
    "    'Cidade': cidade\n",
    "})\n",
    "\n",
    "uf = uf_e_cidades.sort_values(by='Cidade')\n",
    "\n",
    "\n",
    "#Tabela 1: Estados e suas siglas do Centro-Oeste\n",
    "display(uf.head(len(uf)))\n"
   ]
  },
  {
   "cell_type": "markdown",
   "metadata": {},
   "source": [
    "### 5.3 Trazendo os dados e trabalhando a terceira tabela (códigos CPTEC)"
   ]
  },
  {
   "cell_type": "code",
   "execution_count": 10,
   "metadata": {},
   "outputs": [
    {
     "data": {
      "text/html": [
       "<div>\n",
       "<style scoped>\n",
       "    .dataframe tbody tr th:only-of-type {\n",
       "        vertical-align: middle;\n",
       "    }\n",
       "\n",
       "    .dataframe tbody tr th {\n",
       "        vertical-align: top;\n",
       "    }\n",
       "\n",
       "    .dataframe thead th {\n",
       "        text-align: right;\n",
       "    }\n",
       "</style>\n",
       "<table border=\"1\" class=\"dataframe\">\n",
       "  <thead>\n",
       "    <tr style=\"text-align: right;\">\n",
       "      <th></th>\n",
       "      <th>Estado</th>\n",
       "      <th>Cidade</th>\n",
       "      <th>Codigo</th>\n",
       "    </tr>\n",
       "  </thead>\n",
       "  <tbody>\n",
       "    <tr>\n",
       "      <th>0</th>\n",
       "      <td>RR</td>\n",
       "      <td>Alto Alegre</td>\n",
       "      <td>386</td>\n",
       "    </tr>\n",
       "    <tr>\n",
       "      <th>1</th>\n",
       "      <td>RR</td>\n",
       "      <td>Amajari</td>\n",
       "      <td>428</td>\n",
       "    </tr>\n",
       "    <tr>\n",
       "      <th>2</th>\n",
       "      <td>RR</td>\n",
       "      <td>Boa Vista</td>\n",
       "      <td>223</td>\n",
       "    </tr>\n",
       "    <tr>\n",
       "      <th>3</th>\n",
       "      <td>RR</td>\n",
       "      <td>Bonfim</td>\n",
       "      <td>940</td>\n",
       "    </tr>\n",
       "    <tr>\n",
       "      <th>4</th>\n",
       "      <td>RR</td>\n",
       "      <td>Cantá</td>\n",
       "      <td>1267</td>\n",
       "    </tr>\n",
       "    <tr>\n",
       "      <th>5</th>\n",
       "      <td>RR</td>\n",
       "      <td>Caracaraí</td>\n",
       "      <td>1312</td>\n",
       "    </tr>\n",
       "    <tr>\n",
       "      <th>6</th>\n",
       "      <td>RR</td>\n",
       "      <td>Caroebe</td>\n",
       "      <td>1371</td>\n",
       "    </tr>\n",
       "    <tr>\n",
       "      <th>7</th>\n",
       "      <td>RR</td>\n",
       "      <td>Iracema</td>\n",
       "      <td>2464</td>\n",
       "    </tr>\n",
       "    <tr>\n",
       "      <th>8</th>\n",
       "      <td>RR</td>\n",
       "      <td>Mucajaí</td>\n",
       "      <td>3396</td>\n",
       "    </tr>\n",
       "    <tr>\n",
       "      <th>9</th>\n",
       "      <td>RR</td>\n",
       "      <td>Normandia</td>\n",
       "      <td>3468</td>\n",
       "    </tr>\n",
       "    <tr>\n",
       "      <th>10</th>\n",
       "      <td>RR</td>\n",
       "      <td>Pacaraima</td>\n",
       "      <td>3686</td>\n",
       "    </tr>\n",
       "    <tr>\n",
       "      <th>11</th>\n",
       "      <td>RR</td>\n",
       "      <td>Rorainópolis</td>\n",
       "      <td>4449</td>\n",
       "    </tr>\n",
       "    <tr>\n",
       "      <th>12</th>\n",
       "      <td>RR</td>\n",
       "      <td>São João da Baliza</td>\n",
       "      <td>4854</td>\n",
       "    </tr>\n",
       "    <tr>\n",
       "      <th>13</th>\n",
       "      <td>RR</td>\n",
       "      <td>São Luiz</td>\n",
       "      <td>4983</td>\n",
       "    </tr>\n",
       "    <tr>\n",
       "      <th>14</th>\n",
       "      <td>RR</td>\n",
       "      <td>Uiramutã</td>\n",
       "      <td>5523</td>\n",
       "    </tr>\n",
       "  </tbody>\n",
       "</table>\n",
       "</div>"
      ],
      "text/plain": [
       "   Estado              Cidade  Codigo\n",
       "0      RR         Alto Alegre     386\n",
       "1      RR             Amajari     428\n",
       "2      RR           Boa Vista     223\n",
       "3      RR              Bonfim     940\n",
       "4      RR               Cantá    1267\n",
       "5      RR           Caracaraí    1312\n",
       "6      RR             Caroebe    1371\n",
       "7      RR             Iracema    2464\n",
       "8      RR             Mucajaí    3396\n",
       "9      RR           Normandia    3468\n",
       "10     RR           Pacaraima    3686\n",
       "11     RR        Rorainópolis    4449\n",
       "12     RR  São João da Baliza    4854\n",
       "13     RR            São Luiz    4983\n",
       "14     RR            Uiramutã    5523"
      ]
     },
     "metadata": {},
     "output_type": "display_data"
    }
   ],
   "source": [
    "tabela_co = []\n",
    "for cidade in uf['Cidade']:\n",
    "    url = f'https://brasilapi.com.br/api/cptec/v1/cidade/{cidade}'\n",
    "    data_json = extracao_api(url)\n",
    "    if data_json:\n",
    "        for item in data_json:\n",
    "            if item['estado'] == sigla:  # Filtrar para cidades apenas do estado selecionado (evitar homonimas)\n",
    "                df = pd.DataFrame({\n",
    "                    'Estado': [item['estado']],\n",
    "                    'Cidade': [item['nome']],\n",
    "                    'Codigo': [item['id']]\n",
    "                })\n",
    "                tabela_co.append(df)\n",
    "        \n",
    "    # Combinar todos os DataFrames em um único DataFrame\n",
    "total_co = pd.concat(tabela_co, ignore_index=True)\n",
    "    # Exibir o DataFrame combinado com códigos\n",
    "display(total_co.head(len(total_co)))\n",
    "\n",
    "#Em testes, identificamos que as bases não estão atualizadas, apesar de ser a mesma API. Deste modo, algumas cidades são exibidas no quadro geral, mas não estão disponíveis na CPTEC. \n",
    "# Teste com estado do MS gerou divergência com perda de 3 itens\n",
    "\n"
   ]
  },
  {
   "cell_type": "markdown",
   "metadata": {},
   "source": [
    "### 6 - RELACIONANDO TABELAS (Previsão meteorológica)"
   ]
  },
  {
   "cell_type": "code",
   "execution_count": 11,
   "metadata": {},
   "outputs": [
    {
     "data": {
      "text/html": [
       "<div>\n",
       "<style scoped>\n",
       "    .dataframe tbody tr th:only-of-type {\n",
       "        vertical-align: middle;\n",
       "    }\n",
       "\n",
       "    .dataframe tbody tr th {\n",
       "        vertical-align: top;\n",
       "    }\n",
       "\n",
       "    .dataframe thead th {\n",
       "        text-align: right;\n",
       "    }\n",
       "</style>\n",
       "<table border=\"1\" class=\"dataframe\">\n",
       "  <thead>\n",
       "    <tr style=\"text-align: right;\">\n",
       "      <th></th>\n",
       "      <th>Estado</th>\n",
       "      <th>Cidade</th>\n",
       "      <th>Codigo</th>\n",
       "      <th>Data</th>\n",
       "      <th>Minima</th>\n",
       "      <th>Maxima</th>\n",
       "    </tr>\n",
       "  </thead>\n",
       "  <tbody>\n",
       "    <tr>\n",
       "      <th>0</th>\n",
       "      <td>RR</td>\n",
       "      <td>Alto Alegre</td>\n",
       "      <td>386</td>\n",
       "      <td>08/07/2024</td>\n",
       "      <td>22</td>\n",
       "      <td>29</td>\n",
       "    </tr>\n",
       "    <tr>\n",
       "      <th>1</th>\n",
       "      <td>RR</td>\n",
       "      <td>Amajari</td>\n",
       "      <td>428</td>\n",
       "      <td>08/07/2024</td>\n",
       "      <td>23</td>\n",
       "      <td>29</td>\n",
       "    </tr>\n",
       "    <tr>\n",
       "      <th>2</th>\n",
       "      <td>RR</td>\n",
       "      <td>Boa Vista</td>\n",
       "      <td>223</td>\n",
       "      <td>08/07/2024</td>\n",
       "      <td>23</td>\n",
       "      <td>30</td>\n",
       "    </tr>\n",
       "    <tr>\n",
       "      <th>3</th>\n",
       "      <td>RR</td>\n",
       "      <td>Bonfim</td>\n",
       "      <td>940</td>\n",
       "      <td>08/07/2024</td>\n",
       "      <td>22</td>\n",
       "      <td>30</td>\n",
       "    </tr>\n",
       "    <tr>\n",
       "      <th>4</th>\n",
       "      <td>RR</td>\n",
       "      <td>Cantá</td>\n",
       "      <td>1267</td>\n",
       "      <td>08/07/2024</td>\n",
       "      <td>23</td>\n",
       "      <td>29</td>\n",
       "    </tr>\n",
       "    <tr>\n",
       "      <th>5</th>\n",
       "      <td>RR</td>\n",
       "      <td>Caracaraí</td>\n",
       "      <td>1312</td>\n",
       "      <td>08/07/2024</td>\n",
       "      <td>22</td>\n",
       "      <td>31</td>\n",
       "    </tr>\n",
       "    <tr>\n",
       "      <th>6</th>\n",
       "      <td>RR</td>\n",
       "      <td>Caroebe</td>\n",
       "      <td>1371</td>\n",
       "      <td>08/07/2024</td>\n",
       "      <td>22</td>\n",
       "      <td>32</td>\n",
       "    </tr>\n",
       "    <tr>\n",
       "      <th>7</th>\n",
       "      <td>RR</td>\n",
       "      <td>Iracema</td>\n",
       "      <td>2464</td>\n",
       "      <td>08/07/2024</td>\n",
       "      <td>23</td>\n",
       "      <td>30</td>\n",
       "    </tr>\n",
       "    <tr>\n",
       "      <th>8</th>\n",
       "      <td>RR</td>\n",
       "      <td>Mucajaí</td>\n",
       "      <td>3396</td>\n",
       "      <td>08/07/2024</td>\n",
       "      <td>23</td>\n",
       "      <td>30</td>\n",
       "    </tr>\n",
       "    <tr>\n",
       "      <th>9</th>\n",
       "      <td>RR</td>\n",
       "      <td>Normandia</td>\n",
       "      <td>3468</td>\n",
       "      <td>08/07/2024</td>\n",
       "      <td>22</td>\n",
       "      <td>29</td>\n",
       "    </tr>\n",
       "    <tr>\n",
       "      <th>10</th>\n",
       "      <td>RR</td>\n",
       "      <td>Pacaraima</td>\n",
       "      <td>3686</td>\n",
       "      <td>08/07/2024</td>\n",
       "      <td>19</td>\n",
       "      <td>27</td>\n",
       "    </tr>\n",
       "    <tr>\n",
       "      <th>11</th>\n",
       "      <td>RR</td>\n",
       "      <td>Rorainópolis</td>\n",
       "      <td>4449</td>\n",
       "      <td>08/07/2024</td>\n",
       "      <td>23</td>\n",
       "      <td>31</td>\n",
       "    </tr>\n",
       "    <tr>\n",
       "      <th>12</th>\n",
       "      <td>RR</td>\n",
       "      <td>São João da Baliza</td>\n",
       "      <td>4854</td>\n",
       "      <td>08/07/2024</td>\n",
       "      <td>22</td>\n",
       "      <td>32</td>\n",
       "    </tr>\n",
       "    <tr>\n",
       "      <th>13</th>\n",
       "      <td>RR</td>\n",
       "      <td>São Luiz</td>\n",
       "      <td>4983</td>\n",
       "      <td>08/07/2024</td>\n",
       "      <td>23</td>\n",
       "      <td>32</td>\n",
       "    </tr>\n",
       "    <tr>\n",
       "      <th>14</th>\n",
       "      <td>RR</td>\n",
       "      <td>Uiramutã</td>\n",
       "      <td>5523</td>\n",
       "      <td>08/07/2024</td>\n",
       "      <td>21</td>\n",
       "      <td>28</td>\n",
       "    </tr>\n",
       "  </tbody>\n",
       "</table>\n",
       "</div>"
      ],
      "text/plain": [
       "   Estado              Cidade  Codigo        Data  Minima  Maxima\n",
       "0      RR         Alto Alegre     386  08/07/2024      22      29\n",
       "1      RR             Amajari     428  08/07/2024      23      29\n",
       "2      RR           Boa Vista     223  08/07/2024      23      30\n",
       "3      RR              Bonfim     940  08/07/2024      22      30\n",
       "4      RR               Cantá    1267  08/07/2024      23      29\n",
       "5      RR           Caracaraí    1312  08/07/2024      22      31\n",
       "6      RR             Caroebe    1371  08/07/2024      22      32\n",
       "7      RR             Iracema    2464  08/07/2024      23      30\n",
       "8      RR             Mucajaí    3396  08/07/2024      23      30\n",
       "9      RR           Normandia    3468  08/07/2024      22      29\n",
       "10     RR           Pacaraima    3686  08/07/2024      19      27\n",
       "11     RR        Rorainópolis    4449  08/07/2024      23      31\n",
       "12     RR  São João da Baliza    4854  08/07/2024      22      32\n",
       "13     RR            São Luiz    4983  08/07/2024      23      32\n",
       "14     RR            Uiramutã    5523  08/07/2024      21      28"
      ]
     },
     "metadata": {},
     "output_type": "display_data"
    }
   ],
   "source": [
    "\n",
    "cid_temp = []\n",
    "\n",
    "for codigos in total_co['Codigo']:\n",
    "    url = f'https://brasilapi.com.br/api/cptec/v1/clima/previsao/{codigos}'\n",
    "    data_json = extracao_api(url)\n",
    "\n",
    "    if data_json:\n",
    "        estado = data_json['estado']\n",
    "        cidade = data_json['cidade']\n",
    "\n",
    "        for clima in data_json['clima']:\n",
    "             # Converter a data\n",
    "            data_formatada = datetime.strptime(clima['data'], \"%Y-%m-%d\").strftime(\"%d/%m/%Y\")\n",
    "            df = pd.DataFrame({\n",
    "                'Estado': [estado],\n",
    "                'Cidade': [cidade],\n",
    "                'Codigo': [codigos],\n",
    "                'Data': [data_formatada],\n",
    "                'Minima': [clima['min']],\n",
    "                'Maxima': [clima['max']],\n",
    "            })\n",
    "            cid_temp.append(df)\n",
    "    # Combinar todos os DataFrames em um único DataFrame\n",
    "previsao = pd.concat(cid_temp, ignore_index=True)\n",
    "    # Exibir o DataFrame combinado com códigos\n",
    "display(previsao.head(len(previsao)))\n"
   ]
  },
  {
   "cell_type": "markdown",
   "metadata": {},
   "source": [
    "### 7 - #def para carregamento de Dados no banco de dados"
   ]
  },
  {
   "cell_type": "code",
   "execution_count": 13,
   "metadata": {},
   "outputs": [],
   "source": [
    "def carregar_dados_para_db(df, db_name=\"dados_ibge_cptec.db\", table_name=\"previsao\"):\n",
    "    conn = sqlite3.connect(db_name)\n",
    "    df.to_sql(table_name, conn, if_exists='replace', index=False)\n",
    "    conn.close()\n",
    "    print(f\"Dados carregados para {db_name} na tabela {table_name}\")\n"
   ]
  },
  {
   "cell_type": "markdown",
   "metadata": {},
   "source": [
    "### 8 - Chamada da função para carregamento no db da tabela\n"
   ]
  },
  {
   "cell_type": "code",
   "execution_count": 14,
   "metadata": {},
   "outputs": [
    {
     "name": "stdout",
     "output_type": "stream",
     "text": [
      "Dados carregados para dados_ibge_cptec.db na tabela previsao\n"
     ]
    }
   ],
   "source": [
    "carregar_dados_para_db(previsao)\n"
   ]
  },
  {
   "cell_type": "markdown",
   "metadata": {},
   "source": [
    "### 9 - #DEF para visualizar dados usando queries\n"
   ]
  },
  {
   "cell_type": "code",
   "execution_count": 15,
   "metadata": {},
   "outputs": [],
   "source": [
    "def executar_query(query, db_name=\"dados_ibge_cptec.db\"):\n",
    "    conn = sqlite3.connect(db_name)\n",
    "    df = pd.read_sql_query(query, conn)\n",
    "    conn.close()\n",
    "    return df"
   ]
  },
  {
   "cell_type": "markdown",
   "metadata": {},
   "source": [
    "### 10 - Chamada da função para carregamento no db da tabela"
   ]
  },
  {
   "cell_type": "code",
   "execution_count": 16,
   "metadata": {},
   "outputs": [
    {
     "name": "stdout",
     "output_type": "stream",
     "text": [
      "   Estado              Cidade  Codigo        Data  Minima  Maxima\n",
      "0      RR         Alto Alegre     386  08/07/2024      22      29\n",
      "1      RR             Amajari     428  08/07/2024      23      29\n",
      "2      RR           Boa Vista     223  08/07/2024      23      30\n",
      "3      RR              Bonfim     940  08/07/2024      22      30\n",
      "4      RR               Cantá    1267  08/07/2024      23      29\n",
      "5      RR           Caracaraí    1312  08/07/2024      22      31\n",
      "6      RR             Caroebe    1371  08/07/2024      22      32\n",
      "7      RR             Iracema    2464  08/07/2024      23      30\n",
      "8      RR             Mucajaí    3396  08/07/2024      23      30\n",
      "9      RR           Normandia    3468  08/07/2024      22      29\n",
      "10     RR           Pacaraima    3686  08/07/2024      19      27\n",
      "11     RR        Rorainópolis    4449  08/07/2024      23      31\n",
      "12     RR  São João da Baliza    4854  08/07/2024      22      32\n",
      "13     RR            São Luiz    4983  08/07/2024      23      32\n",
      "14     RR            Uiramutã    5523  08/07/2024      21      28\n"
     ]
    }
   ],
   "source": [
    "query_previsao = \"SELECT * FROM previsao\"\n",
    "df_previsao_query = executar_query(query_previsao)\n",
    "print(df_previsao_query.head(len(df_previsao_query)))"
   ]
  },
  {
   "cell_type": "markdown",
   "metadata": {},
   "source": [
    "### 11 - Exemplo para erro na extração da base"
   ]
  },
  {
   "cell_type": "code",
   "execution_count": 17,
   "metadata": {},
   "outputs": [],
   "source": [
    "url = f'https://brasilapi.com.br/api/cptec/v1/clima/previsao/'\n",
    "data_json = extracao_api(url)"
   ]
  },
  {
   "cell_type": "markdown",
   "metadata": {},
   "source": [
    "### 12. Hipoteses: Algumas cidades tendem a ter uma temperatura máxima consistentemente mais alta do que outras?\n"
   ]
  },
  {
   "cell_type": "code",
   "execution_count": 18,
   "metadata": {},
   "outputs": [
    {
     "data": {
      "image/png": "[encoded data removed]",
      "text/plain": [
       "<Figure size 1600x600 with 1 Axes>"
      ]
     },
     "metadata": {},
     "output_type": "display_data"
    },
    {
     "name": "stderr",
     "output_type": "stream",
     "text": [
      "c:\\ProgramData\\anaconda3\\Lib\\site-packages\\seaborn\\_oldcore.py:1119: FutureWarning: use_inf_as_na option is deprecated and will be removed in a future version. Convert inf values to NaN before operating instead.\n",
      "  with pd.option_context('mode.use_inf_as_na', True):\n"
     ]
    },
    {
     "data": {
      "image/png": "[encoded data removed]",
      "text/plain": [
       "<Figure size 1600x600 with 1 Axes>"
      ]
     },
     "metadata": {},
     "output_type": "display_data"
    },
    {
     "name": "stderr",
     "output_type": "stream",
     "text": [
      "c:\\ProgramData\\anaconda3\\Lib\\site-packages\\seaborn\\_oldcore.py:1119: FutureWarning: use_inf_as_na option is deprecated and will be removed in a future version. Convert inf values to NaN before operating instead.\n",
      "  with pd.option_context('mode.use_inf_as_na', True):\n"
     ]
    },
    {
     "data": {
      "image/png": "[encoded data removed]",
      "text/plain": [
       "<Figure size 1600x600 with 1 Axes>"
      ]
     },
     "metadata": {},
     "output_type": "display_data"
    }
   ],
   "source": [
    "import matplotlib.pyplot as plt\n",
    "import seaborn as sns\n",
    "\n",
    "# Média das temperaturas máximas\n",
    "df_temp_max = df_previsao_query.groupby('Cidade')['Maxima'].mean().reset_index()\n",
    "\n",
    "# temperatura máxima média por cidade\n",
    "plt.figure(figsize=(16, 6))\n",
    "sns.barplot(data=df_temp_max, x='Cidade', y='Maxima')\n",
    "plt.title('Temperatura Máxima Média por Cidade')\n",
    "plt.xlabel('Cidade')\n",
    "plt.ylabel('Temperatura Máxima Média (°C)')\n",
    "plt.xticks(rotation=90)\n",
    "plt.show()\n",
    "\n",
    "# distribuição para a temperatura mínima\n",
    "plt.figure(figsize=(16, 6))\n",
    "sns.histplot(df_previsao_query['Minima'], bins=20, kde=True)\n",
    "plt.title('Distribuição da Temperatura Mínima')\n",
    "plt.xlabel('Temperatura Mínima (°C)')\n",
    "plt.ylabel('Frequência')\n",
    "plt.show()\n",
    "\n",
    "# distribuição para a temperatura máxima\n",
    "plt.figure(figsize=(16, 6))\n",
    "sns.histplot(df_previsao_query['Maxima'], bins=20, kde=True)\n",
    "plt.title('Distribuição da Temperatura Máxima')\n",
    "plt.xlabel('Temperatura Máxima (°C)')\n",
    "plt.ylabel('Frequência')\n",
    "plt.show()"
   ]
  }
 ],
 "metadata": {
  "kernelspec": {
   "display_name": "base",
   "language": "python",
   "name": "python3"
  },
  "language_info": {
   "codemirror_mode": {
    "name": "ipython",
    "version": 3
   },
   "file_extension": ".py",
   "mimetype": "text/x-python",
   "name": "python",
   "nbconvert_exporter": "python",
   "pygments_lexer": "ipython3",
   "version": "3.11.7"
  }
 },
 "nbformat": 4,
 "nbformat_minor": 2
}
